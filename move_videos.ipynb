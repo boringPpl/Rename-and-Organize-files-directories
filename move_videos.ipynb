{
 "cells": [
  {
   "cell_type": "code",
   "execution_count": 17,
   "metadata": {},
   "outputs": [
    {
     "output_type": "stream",
     "name": "stdout",
     "text": [
      "Importing packages ...\n- Package imported\n"
     ]
    }
   ],
   "source": [
    "# Standard import\n",
    "print('Importing packages ...')\n",
    "import xlrd\n",
    "import os\n",
    "from pathlib import Path\n",
    "print('- Package imported')"
   ]
  },
  {
   "cell_type": "code",
   "execution_count": 18,
   "metadata": {},
   "outputs": [
    {
     "output_type": "stream",
     "name": "stdout",
     "text": [
      "Pulling video IDs and Titles from Excel ...\n",
      "['4223', '3214', '1738', '1748', '1441', '2449', '43040', '1568', '2116', '3392', '2247', '2797', '43048', '11881', '7442', '3761', '2571', '4906', '4062', '3053', '177', '1', '3959']\n"
     ]
    }
   ],
   "source": [
    "# Pull video IDs and Titles from excel file\n",
    "print('Pulling video IDs and Titles from Excel ...')\n",
    "\n",
    "FROM = 1 \n",
    "TO = 16\n",
    "path = '/Users/admin/Desktop/Python_MacPro/organize_netflix/organizeVideo/test'\n",
    "\n",
    "file_location = '/Users/admin/Desktop/Python_MacPro/organize_netflix/organizeVideo/database.xlsx'\n",
    "workbook = xlrd.open_workbook(file_location)\n",
    "sheet = workbook.sheet_by_name('video-test')\n",
    "video_titles = sheet.col_values(0, 1)\n",
    "video_ids = sheet.col_values(1, 1)\n",
    "video_ids_int = [str(int(i)) for i in video_ids]\n",
    "\n",
    "print(video_ids_int)"
   ]
  },
  {
   "cell_type": "code",
   "execution_count": 19,
   "metadata": {},
   "outputs": [
    {
     "output_type": "stream",
     "name": "stdout",
     "text": [
      "Matching video IDs with Titles ...\n{'4223': 'Dramas starring Jeff Bridges', '3214': 'Dramas starring Jeff Daniels', '1738': 'Dramas starring Jodie Foster', '1748': 'Dramas starring John Turturro', '1441': 'Action & Adventure starring Toshirô Mifune', '2449': 'Action & Adventure starring Yun-Fat Chow', '43040': 'Action Comedies', '1568': 'Action Sci-Fi & Fantasy', '2116': 'Action Sci-Fi & Fantasy based on Books', '3392': 'Action Sci-Fi & Fantasy for ages 11 to 12', '2247': 'Action Sci-Fi & Fantasy for ages 8 to 10', '2797': 'Action Sci-Fi & Fantasy on Blu-ray', '43048': 'Action Thrillers', '11881': 'Adult Animation', '7442': 'Adventures', '3761': 'African', '2571': 'African-American Action & Adventure from the 1970s', '4906': 'African-American Comedies', '4062': 'African-American Comedies from the 1970s', '3053': 'African-American Crime Action & Adventure', '177': 'African-American Crime Comedies', '1': 'African-American Crime Documentaries', '3959': 'African-American Crime Dramas'}\n"
     ]
    }
   ],
   "source": [
    "# Match IDs with Titles\n",
    "print('Matching video IDs with Titles ...')\n",
    "id_dict = {}\n",
    "for i in range(len(video_ids_int)):\n",
    "    id_dict[video_ids_int[i]] = video_titles[i]\n",
    "\n",
    "print(id_dict)"
   ]
  },
  {
   "cell_type": "code",
   "execution_count": 20,
   "metadata": {},
   "outputs": [
    {
     "output_type": "stream",
     "name": "stdout",
     "text": [
      "Renaming files from IDs to Titles ...\n"
     ]
    }
   ],
   "source": [
    "# Renaming files from IDs to Titles\n",
    "print('Renaming files from IDs to Titles ...')\n",
    "os.chdir(path)\n",
    "for f in os.listdir():\n",
    "    for ids, titles in id_dict.items():\n",
    "        video_name, suffix = os.path.splitext(f)\n",
    "        if ids == video_name:\n",
    "            name = f'{titles}{suffix}'\n",
    "            os.rename(f, name)"
   ]
  },
  {
   "cell_type": "code",
   "execution_count": 79,
   "metadata": {},
   "outputs": [
    {
     "name": "stdout",
     "output_type": "stream",
     "text": [
      "Pulling genres from Excel ...\n",
      "['Action & Adventure', 'Anime', 'Children & Family', 'Classic', 'Comedies', 'Documentaries', 'Dramas', 'Horror', 'Music', 'Romantic', 'Sci-fi & Fantasy', 'Sports', 'Thrillers', 'TV Shows']\n"
     ]
    }
   ],
   "source": [
    "# Pull the genres data to our file\n",
    "print('Pulling genres from Excel ...')\n",
    "sheet_2 = workbook.sheet_by_name('main-genres')\n",
    "genres = sheet_2.col_values(0, start_rowx=1)\n",
    "print(genres)"
   ]
  },
  {
   "cell_type": "code",
   "execution_count": 55,
   "metadata": {},
   "outputs": [
    {
     "name": "stdout",
     "output_type": "stream",
     "text": [
      "Matching each file with its genre ...\n",
      "{'Action & Adventure': ['African-American Action & Adventure from the 1970s.mp4', 'Action & Adventure starring Yun-Fat Chow.mp4', 'African-American Crime Action & Adventure.mp4', 'Action & Adventure starring Toshirô Mifune.mp4'], 'Anime': [], 'Children & Family': [], 'Classic': [], 'Comedies': ['Action Comedies.mp4', 'African-American Crime Comedies.mp4', 'African-American Comedies.mp4', 'African-American Comedies from the 1970s.mp4'], 'Documentaries': ['African-American Crime Documentaries.mp4'], 'Dramas': ['Dramas starring Jeff Daniels.mp4', 'African-American Crime Dramas.mp4', 'Dramas starring John Turturro.mp4', 'Dramas starring Jeff Bridges.mp4', 'Dramas starring Jodie Foster.mp4'], 'Horror': [], 'Music': [], 'Romantic': [], 'Sci-fi & Fantasy': [], 'Sports': [], 'Thrillers': ['Action Thrillers.mp4'], 'TV Shows': []}\n"
     ]
    }
   ],
   "source": [
    "# Match the files with their genre\n",
    "print('Matching each file with its genre ...')\n",
    "\n",
    "# os.chdir(path)\n",
    "path2 = '/Users/admin/Desktop/Python_MacPro/organize_netflix/organizeVideo/test'\n",
    "genre_dict = {}\n",
    "for i in genres:\n",
    "    genre_dict[i] = []\n",
    "for video in os.listdir(path2): \n",
    "    for genre, videos in genre_dict.items():\n",
    "        if genre in video:\n",
    "            videos.append(video)\n",
    "\n",
    "def pick_directory(value):\n",
    "    for genre, videos in genre_dict.items():\n",
    "        for video in videos:\n",
    "            if value == video:\n",
    "                return genre\n",
    "    return 'Others'\n",
    "            \n",
    "print(genre_dict)"
   ]
  },
  {
   "cell_type": "code",
   "execution_count": 80,
   "metadata": {},
   "outputs": [
    {
     "name": "stdout",
     "output_type": "stream",
     "text": [
      "Thrillers\n"
     ]
    }
   ],
   "source": [
    "print(pick_directory('Action Thrillers.mp4'))"
   ]
  },
  {
   "cell_type": "code",
   "execution_count": 83,
   "metadata": {},
   "outputs": [
    {
     "name": "stdout",
     "output_type": "stream",
     "text": [
      "Creating folders of genres and Moving files ...\n",
      "<DirEntry 'Action Comedies.mp4'> <class 'posix.DirEntry'>\n",
      "<DirEntry 'Dramas starring Jeff Daniels.mp4'> <class 'posix.DirEntry'>\n",
      "<DirEntry 'African-American Action & Adventure from the 1970s.mp4'> <class 'posix.DirEntry'>\n",
      "<DirEntry 'African-American Crime Comedies.mp4'> <class 'posix.DirEntry'>\n",
      "<DirEntry 'Action Sci-Fi & Fantasy based on Books.mp4'> <class 'posix.DirEntry'>\n",
      "<DirEntry 'African-American Comedies.mp4'> <class 'posix.DirEntry'>\n",
      "<DirEntry 'African.mp4'> <class 'posix.DirEntry'>\n",
      "<DirEntry 'African-American Crime Documentaries.mp4'> <class 'posix.DirEntry'>\n",
      "<DirEntry 'Action & Adventure starring Yun-Fat Chow.mp4'> <class 'posix.DirEntry'>\n",
      "<DirEntry 'Action Sci-Fi & Fantasy on Blu-ray.mp4'> <class 'posix.DirEntry'>\n",
      "<DirEntry 'Adventures.mp4'> <class 'posix.DirEntry'>\n",
      "<DirEntry 'African-American Crime Dramas.mp4'> <class 'posix.DirEntry'>\n",
      "<DirEntry 'Adult Animation.mp4'> <class 'posix.DirEntry'>\n",
      "<DirEntry 'African-American Crime Action & Adventure.mp4'> <class 'posix.DirEntry'>\n",
      "<DirEntry 'Action & Adventure starring Toshirô Mifune.mp4'> <class 'posix.DirEntry'>\n",
      "<DirEntry 'Action Sci-Fi & Fantasy.mp4'> <class 'posix.DirEntry'>\n",
      "<DirEntry 'African-American Comedies from the 1970s.mp4'> <class 'posix.DirEntry'>\n",
      "<DirEntry 'Dramas starring John Turturro.mp4'> <class 'posix.DirEntry'>\n",
      "<DirEntry 'Action Sci-Fi & Fantasy for ages 8 to 10.mp4'> <class 'posix.DirEntry'>\n",
      "<DirEntry 'Action Thrillers.mp4'> <class 'posix.DirEntry'>\n",
      "<DirEntry 'Dramas starring Jeff Bridges.mp4'> <class 'posix.DirEntry'>\n",
      "<DirEntry 'Action Sci-Fi & Fantasy for ages 11 to 12.mp4'> <class 'posix.DirEntry'>\n",
      "<DirEntry 'Dramas starring Jodie Foster.mp4'> <class 'posix.DirEntry'>\n",
      "Mission completed!!!\n"
     ]
    }
   ],
   "source": [
    "# Create the folders of genres and Move files accordingly\n",
    "print('Creating folders of genres and Moving files ...')\n",
    "\n",
    "os.chdir(path2)\n",
    "for item in os.scandir():\n",
    "    print(item, type(item))\n",
    "    \n",
    "    if item.is_dir():\n",
    "        continue\n",
    "        \n",
    "    filePath = Path(item)\n",
    "    # print(filePath, type(filePath))\n",
    "    \n",
    "    filePath_str = str(filePath)\n",
    "    # print(filePath_str, type(filePath_str))\n",
    "    \n",
    "    directory = pick_directory(filePath_str)\n",
    "    # print(directory, type(directory))\n",
    "    \n",
    "#     directoryPath = Path(directory)\n",
    "#     if directoryPath.is_dir() != True:\n",
    "#         directoryPath.mkdir()\n",
    "\n",
    "#     filePath.rename(directoryPath.joinpath(filePath))\n",
    "\n",
    "print('Mission completed!!!')"
   ]
  },
  {
   "cell_type": "code",
   "execution_count": 21,
   "metadata": {},
   "outputs": [
    {
     "output_type": "stream",
     "name": "stdout",
     "text": [
      "['Action & Adventure', 'Anime', 'Children & Family', 'Classic', 'Comedies', 'Documentaries', 'Dramas', 'Horror', 'Music', 'Romantic', 'Sci-fi & Fantasy', 'Sports', 'Thrillers', 'TV Shows']\n"
     ]
    }
   ],
   "source": [
    "# Pull the genres data to our file\n",
    "\n",
    "sheet2 = workbook.sheet_by_name('main-genres')\n",
    "genres = sheet2.col_values(0, start_rowx = 1)\n",
    "print(genres)"
   ]
  },
  {
   "cell_type": "code",
   "execution_count": 22,
   "metadata": {},
   "outputs": [
    {
     "output_type": "stream",
     "name": "stdout",
     "text": [
      "{'Action & Adventure': ['African-American Action & Adventure from the 1970s.mp4', 'Action & Adventure starring Yun-Fat Chow.mp4', 'African-American Crime Action & Adventure.mp4', 'Action & Adventure starring Toshirô Mifune.mp4'], 'Anime': [], 'Children & Family': [], 'Classic': [], 'Comedies': ['Action Comedies.mp4', 'African-American Crime Comedies.mp4', 'African-American Comedies.mp4', 'African-American Comedies from the 1970s.mp4'], 'Documentaries': ['African-American Crime Documentaries.mp4'], 'Dramas': ['Dramas starring Jeff Daniels.mp4', 'African-American Crime Dramas.mp4', 'Dramas starring John Turturro.mp4', 'Dramas starring Jeff Bridges.mp4', 'Dramas starring Jodie Foster.mp4'], 'Horror': [], 'Music': [], 'Romantic': [], 'Sci-fi & Fantasy': [], 'Sports': [], 'Thrillers': ['Action Thrillers.mp4'], 'TV Shows': []}\n"
     ]
    }
   ],
   "source": [
    "# Match the files with their genre\n",
    "path2 = '/Users/admin/Desktop/Python_MacPro/organize_netflix/organizeVideo/test'\n",
    "\n",
    "genre_dict = {}\n",
    "for i in genres:\n",
    "    genre_dict[i] = []\n",
    "\n",
    "for video in os.listdir(path2):\n",
    "    for genre, videos in genre_dict.items():\n",
    "        if genre in video:\n",
    "            videos.append(video)\n",
    "\n",
    "def pick_directory(value):\n",
    "    for genre, videos in genre_dict.items():\n",
    "        for video in videos:\n",
    "            if value == video:\n",
    "                return genre\n",
    "    return \"Others\"\n",
    "\n",
    "print(genre_dict)"
   ]
  },
  {
   "cell_type": "code",
   "execution_count": 23,
   "metadata": {},
   "outputs": [
    {
     "output_type": "stream",
     "name": "stdout",
     "text": [
      "Comedies\n"
     ]
    }
   ],
   "source": [
    "print(pick_directory('Action Comedies.mp4'))"
   ]
  },
  {
   "cell_type": "code",
   "execution_count": 24,
   "metadata": {},
   "outputs": [
    {
     "output_type": "stream",
     "name": "stdout",
     "text": [
      "Creating folders of genres and Moving files ...\nMission completed!!!\n"
     ]
    }
   ],
   "source": [
    "# Create the folders of genres and Move files accordingly\n",
    "print('Creating folders of genres and Moving files ...')\n",
    "os.chdir(path2)\n",
    "\n",
    "for item in os.scandir():\n",
    "    if item.is_dir():\n",
    "        continue\n",
    "    filePath = Path(item)\n",
    "    filePath_str = str(filePath)\n",
    "    directory = pick_directory(filePath_str)\n",
    "    directoryPath = Path(directory)\n",
    "    if directoryPath.is_dir() != True:\n",
    "        directoryPath.mkdir()\n",
    "    filePath.rename(directoryPath.joinpath(filePath))\n",
    "\n",
    "print('Mission completed!!!')"
   ]
  },
  {
   "cell_type": "code",
   "execution_count": null,
   "metadata": {},
   "outputs": [],
   "source": []
  }
 ],
 "metadata": {
  "kernelspec": {
   "display_name": "Python 3",
   "language": "python",
   "name": "python3"
  },
  "language_info": {
   "codemirror_mode": {
    "name": "ipython",
    "version": 3
   },
   "file_extension": ".py",
   "mimetype": "text/x-python",
   "name": "python",
   "nbconvert_exporter": "python",
   "pygments_lexer": "ipython3",
   "version": "3.7.6-final"
  }
 },
 "nbformat": 4,
 "nbformat_minor": 2
}