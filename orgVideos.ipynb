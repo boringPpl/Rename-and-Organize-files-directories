{
 "metadata": {
  "language_info": {
   "codemirror_mode": {
    "name": "ipython",
    "version": 3
   },
   "file_extension": ".py",
   "mimetype": "text/x-python",
   "name": "python",
   "nbconvert_exporter": "python",
   "pygments_lexer": "ipython3",
   "version": "3.7.6-final"
  },
  "orig_nbformat": 2,
  "kernelspec": {
   "name": "python3",
   "display_name": "Python 3"
  }
 },
 "nbformat": 4,
 "nbformat_minor": 2,
 "cells": [
  {
   "cell_type": "code",
   "execution_count": 1,
   "metadata": {},
   "outputs": [],
   "source": [
    "import xlrd\n",
    "import os"
   ]
  },
  {
   "cell_type": "code",
   "execution_count": 61,
   "metadata": {},
   "outputs": [
    {
     "output_type": "stream",
     "name": "stdout",
     "text": [
      "['4223', '3214', '1738', '1748', '1441', '2449', '43040', '1568', '2116', '3392', '2247', '2797', '43048', '11881', '7442', '3761', '2571', '4906', '4062', '3053', '177', '1', '3959']\n<class 'str'>\n"
     ]
    }
   ],
   "source": [
    "# Pull video IDs and Titles from excel file\n",
    "\n",
    "path = '/Users/admin/Desktop/Python_MacPro/organize_netflix/organizeVideo/database.xlsx'\n",
    "workbook = xlrd.open_workbook(path)\n",
    "sheet = workbook.sheet_by_name('video-test')\n",
    "video_titles = sheet.col_values(0, start_rowx=1)\n",
    "video_ids = sheet.col_values(1, start_rowx=1)\n",
    "video_ids_str = [str(int(id)) for id in video_ids]\n",
    "\n",
    "print(video_ids_str)\n",
    "print(type(video_ids_str[0]))"
   ]
  },
  {
   "cell_type": "code",
   "execution_count": 69,
   "metadata": {},
   "outputs": [
    {
     "output_type": "stream",
     "name": "stdout",
     "text": [
      "Matching video IDs with Titles ...\n{'4223': 'Dramas starring Jeff Bridges', '3214': 'Dramas starring Jeff Daniels', '1738': 'Dramas starring Jodie Foster', '1748': 'Dramas starring John Turturro', '1441': 'Action & Adventure starring Toshirô Mifune', '2449': 'Action & Adventure starring Yun-Fat Chow', '43040': 'Action Comedies', '1568': 'Action Sci-Fi & Fantasy', '2116': 'Action Sci-Fi & Fantasy based on Books', '3392': 'Action Sci-Fi & Fantasy for ages 11 to 12', '2247': 'Action Sci-Fi & Fantasy for ages 8 to 10', '2797': 'Action Sci-Fi & Fantasy on Blu-ray', '43048': 'Action Thrillers', '11881': 'Adult Animation', '7442': 'Adventures', '3761': 'African', '2571': 'African-American Action & Adventure from the 1970s', '4906': 'African-American Comedies', '4062': 'African-American Comedies from the 1970s', '3053': 'African-American Crime Action & Adventure', '177': 'African-American Crime Comedies', '1': 'African-American Crime Documentaries', '3959': 'African-American Crime Dramas'}\n"
     ]
    }
   ],
   "source": [
    "# Match IDs with Titles\n",
    "print('Matching video IDs with Titles ...')\n",
    "id_dict = {}\n",
    "for item in range(len(video_ids_str)):\n",
    "    id_dict.update({video_ids_str[item]:video_titles[item]})\n",
    "\n",
    "print(id_dict)"
   ]
  },
  {
   "cell_type": "code",
   "execution_count": 79,
   "metadata": {},
   "outputs": [
    {
     "output_type": "stream",
     "name": "stdout",
     "text": [
      "Renaming files from IDs to Titles ...\nDone\n"
     ]
    }
   ],
   "source": [
    "# Renaming files from IDs to Titles\n",
    "print('Renaming files from IDs to Titles ...')\n",
    "os.chdir('/Users/admin/Desktop/Python_MacPro/organize_netflix/organizeVideo/test')\n",
    "\n",
    "for f in os.listdir():\n",
    "    for ids, titles in id_dict.items():\n",
    "        video_name, suffix = os.path.splitext(f)\n",
    "        if titles == video_name:\n",
    "            name = f'{ids}{suffix}'\n",
    "            # print('From:',f,'- To:', name)\n",
    "            os.rename(f, name)\n",
    "print('Done')"
   ]
  },
  {
   "cell_type": "code",
   "execution_count": null,
   "metadata": {},
   "outputs": [],
   "source": []
  }
 ]
}